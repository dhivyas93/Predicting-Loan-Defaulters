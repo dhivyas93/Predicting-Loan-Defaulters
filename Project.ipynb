{
 "cells": [
  {
   "cell_type": "markdown",
   "metadata": {},
   "source": [
    "<center>\n",
    "    <h1> BL-INFO-I590 - Data Science On Ramp </h1>\n",
    "    <h1> Machine Learning With Spark, Fall 2018 </h1>\n",
    "    <h1> Final Project </h1>\n",
    "<center>"
   ]
  },
  {
   "cell_type": "markdown",
   "metadata": {},
   "source": [
    "<center>\n",
    "  <h1> DHIVYA SWAMINATHAN </h1>\n",
    "  <h1> <i> UID : 2000434729 </i> </h1>\n",
    "</center>"
   ]
  },
  {
   "cell_type": "code",
   "execution_count": 1,
   "metadata": {},
   "outputs": [],
   "source": [
    "# importing necessary libraries\n",
    "from pyspark.sql import SparkSession\n",
    "from pyspark.sql.types import *\n",
    "import numpy as np\n",
    "from pyspark.ml.feature import OneHotEncoderEstimator, StringIndexer, MinMaxScaler, VectorAssembler, Normalizer\n",
    "from pyspark.ml.linalg import Vectors\n",
    "from pyspark.sql.functions import col, avg, count, monotonically_increasing_id, sqrt, mean as _mean, stddev as _stddev, explode, udf\n",
    "from pyspark.ml.evaluation import RegressionEvaluator\n",
    "from pyspark.ml.regression import LinearRegression\n",
    "from pyspark.ml.tuning import ParamGridBuilder, TrainValidationSplit\n",
    "from pyspark.ml import Pipeline\n",
    "from pyspark.ml.feature import OneHotEncoderEstimator, StringIndexer, VectorAssembler"
   ]
  },
  {
   "cell_type": "markdown",
   "metadata": {},
   "source": [
    "## Data Loading"
   ]
  },
  {
   "cell_type": "code",
   "execution_count": 2,
   "metadata": {
    "scrolled": true
   },
   "outputs": [
    {
     "name": "stdout",
     "output_type": "stream",
     "text": [
      "root\n",
      " |-- ID: string (nullable = true)\n",
      " |-- Credit Limit: string (nullable = true)\n",
      " |-- Gender: string (nullable = true)\n",
      " |-- Education: string (nullable = true)\n",
      " |-- Marital status: string (nullable = true)\n",
      " |-- Age: string (nullable = true)\n",
      " |-- Repayment status - September: string (nullable = true)\n",
      " |-- Repayment status - August: string (nullable = true)\n",
      " |-- Repayment status - July: string (nullable = true)\n",
      " |-- Repayment status - June: string (nullable = true)\n",
      " |-- Repayment status - May: string (nullable = true)\n",
      " |-- Repayment status - April: string (nullable = true)\n",
      " |-- Amount of bill statement - September: string (nullable = true)\n",
      " |-- Amount of bill statement - August: string (nullable = true)\n",
      " |-- Amount of bill statement - July: string (nullable = true)\n",
      " |-- Amount of bill statement - June: string (nullable = true)\n",
      " |-- Amount of bill statement - May: string (nullable = true)\n",
      " |-- Amount of bill statement - April: string (nullable = true)\n",
      " |-- Amount of previous payment - September: string (nullable = true)\n",
      " |-- Amount of previous payment - August: string (nullable = true)\n",
      " |-- Amount of previous payment - July: string (nullable = true)\n",
      " |-- Amount of previous payment - June: string (nullable = true)\n",
      " |-- Amount of previous payment - May: string (nullable = true)\n",
      " |-- Amount of previous payment - April: string (nullable = true)\n",
      " |-- Potential Defaulter: string (nullable = true)\n",
      "\n"
     ]
    }
   ],
   "source": [
    "# Loading data into a spark dataframe\n",
    "spark = SparkSession.builder.getOrCreate()\n",
    "\n",
    "path = \"/Users/dhivyaslh/Documents/IUB/FALL 2018/Data Science on Ramp/ML with Spark/Project/\"\n",
    "file = \"default of credit card clients1.csv\"\n",
    "\n",
    "input_txt = file\n",
    "\n",
    "columns = ['ID','Credit Limit', 'Gender', 'Education','Marital status', 'Age', \n",
    "           'Repayment status - September','Repayment status - August','Repayment status - July', 'Repayment status - June','Repayment status - May','Repayment status - April',\n",
    "           'Amount of bill statement - September','Amount of bill statement - August','Amount of bill statement - July', 'Amount of bill statement - June','Amount of bill statement - May','Amount of bill statement - April',\n",
    "           'Amount of previous payment - September','Amount of previous payment - August','Amount of previous payment - July', 'Amount of previous payment - June','Amount of previous payment - May','Amount of previous payment - April',\n",
    "           'Potential Defaulter']\n",
    "\n",
    "data = spark.read.load(input_txt, format = \"csv\")\n",
    "data = data.toDF(*columns)\n",
    "data.printSchema()"
   ]
  },
  {
   "cell_type": "markdown",
   "metadata": {},
   "source": [
    "## Data Transformation"
   ]
  },
  {
   "cell_type": "code",
   "execution_count": 3,
   "metadata": {},
   "outputs": [],
   "source": [
    "stringCols = ['Credit Limit', 'Gender', 'Education','Marital status', 'Age', \n",
    "              'Repayment status - September','Repayment status - August','Repayment status - July', \n",
    "              'Repayment status - June','Repayment status - May','Repayment status - April']\n",
    "\n",
    "doubleCols = list(set(data.columns) - set(stringCols) - {'ID','Potential Defaulter'})"
   ]
  },
  {
   "cell_type": "code",
   "execution_count": 4,
   "metadata": {
    "scrolled": true
   },
   "outputs": [
    {
     "name": "stdout",
     "output_type": "stream",
     "text": [
      "root\n",
      " |-- ID: double (nullable = true)\n",
      " |-- Credit Limit: string (nullable = true)\n",
      " |-- Gender: string (nullable = true)\n",
      " |-- Education: string (nullable = true)\n",
      " |-- Marital status: string (nullable = true)\n",
      " |-- Age: string (nullable = true)\n",
      " |-- Repayment status - September: string (nullable = true)\n",
      " |-- Repayment status - August: string (nullable = true)\n",
      " |-- Repayment status - July: string (nullable = true)\n",
      " |-- Repayment status - June: string (nullable = true)\n",
      " |-- Repayment status - May: string (nullable = true)\n",
      " |-- Repayment status - April: string (nullable = true)\n",
      " |-- Amount of bill statement - September: double (nullable = true)\n",
      " |-- Amount of bill statement - August: double (nullable = true)\n",
      " |-- Amount of bill statement - July: double (nullable = true)\n",
      " |-- Amount of bill statement - June: double (nullable = true)\n",
      " |-- Amount of bill statement - May: double (nullable = true)\n",
      " |-- Amount of bill statement - April: double (nullable = true)\n",
      " |-- Amount of previous payment - September: double (nullable = true)\n",
      " |-- Amount of previous payment - August: double (nullable = true)\n",
      " |-- Amount of previous payment - July: double (nullable = true)\n",
      " |-- Amount of previous payment - June: double (nullable = true)\n",
      " |-- Amount of previous payment - May: double (nullable = true)\n",
      " |-- Amount of previous payment - April: double (nullable = true)\n",
      " |-- Potential Defaulter: double (nullable = true)\n",
      "\n"
     ]
    }
   ],
   "source": [
    "# cleaning data\n",
    "for column in data.schema.names:\n",
    "    if column not in stringCols:\n",
    "        data = data.withColumn(column, data[column].cast('double'))\n",
    "data = data.withColumnRenamed(\"_c0\", \"Year\")\n",
    "data.printSchema()"
   ]
  },
  {
   "cell_type": "code",
   "execution_count": 5,
   "metadata": {},
   "outputs": [
    {
     "name": "stdout",
     "output_type": "stream",
     "text": [
      "+----+------------+------+---------+--------------+---+----------------------------+-------------------------+-----------------------+-----------------------+----------------------+------------------------+------------------------------------+---------------------------------+-------------------------------+-------------------------------+------------------------------+--------------------------------+--------------------------------------+-----------------------------------+---------------------------------+---------------------------------+--------------------------------+----------------------------------+-------------------+\n",
      "|  ID|Credit Limit|Gender|Education|Marital status|Age|Repayment status - September|Repayment status - August|Repayment status - July|Repayment status - June|Repayment status - May|Repayment status - April|Amount of bill statement - September|Amount of bill statement - August|Amount of bill statement - July|Amount of bill statement - June|Amount of bill statement - May|Amount of bill statement - April|Amount of previous payment - September|Amount of previous payment - August|Amount of previous payment - July|Amount of previous payment - June|Amount of previous payment - May|Amount of previous payment - April|Potential Defaulter|\n",
      "+----+------------+------+---------+--------------+---+----------------------------+-------------------------+-----------------------+-----------------------+----------------------+------------------------+------------------------------------+---------------------------------+-------------------------------+-------------------------------+------------------------------+--------------------------------+--------------------------------------+-----------------------------------+---------------------------------+---------------------------------+--------------------------------+----------------------------------+-------------------+\n",
      "| 1.0|       20000|     2|        2|             1| 24|                           2|                        2|                     -1|                     -1|                    -2|                      -2|                              3913.0|                           3102.0|                          689.0|                            0.0|                           0.0|                             0.0|                                   0.0|                              689.0|                              0.0|                              0.0|                             0.0|                               0.0|                1.0|\n",
      "| 2.0|      120000|     2|        2|             2| 26|                          -1|                        2|                      0|                      0|                     0|                       2|                              2682.0|                           1725.0|                         2682.0|                         3272.0|                        3455.0|                          3261.0|                                   0.0|                             1000.0|                           1000.0|                           1000.0|                             0.0|                            2000.0|                1.0|\n",
      "| 3.0|       90000|     2|        2|             2| 34|                           0|                        0|                      0|                      0|                     0|                       0|                             29239.0|                          14027.0|                        13559.0|                        14331.0|                       14948.0|                         15549.0|                                1518.0|                             1500.0|                           1000.0|                           1000.0|                          1000.0|                            5000.0|                0.0|\n",
      "| 4.0|       50000|     2|        2|             1| 37|                           0|                        0|                      0|                      0|                     0|                       0|                             46990.0|                          48233.0|                        49291.0|                        28314.0|                       28959.0|                         29547.0|                                2000.0|                             2019.0|                           1200.0|                           1100.0|                          1069.0|                            1000.0|                0.0|\n",
      "| 5.0|       50000|     1|        2|             1| 57|                          -1|                        0|                     -1|                      0|                     0|                       0|                              8617.0|                           5670.0|                        35835.0|                        20940.0|                       19146.0|                         19131.0|                                2000.0|                            36681.0|                          10000.0|                           9000.0|                           689.0|                             679.0|                0.0|\n",
      "| 6.0|       50000|     1|        1|             2| 37|                           0|                        0|                      0|                      0|                     0|                       0|                             64400.0|                          57069.0|                        57608.0|                        19394.0|                       19619.0|                         20024.0|                                2500.0|                             1815.0|                            657.0|                           1000.0|                          1000.0|                             800.0|                0.0|\n",
      "| 7.0|      500000|     1|        1|             2| 29|                           0|                        0|                      0|                      0|                     0|                       0|                            367965.0|                         412023.0|                       445007.0|                       542653.0|                      483003.0|                        473944.0|                               55000.0|                            40000.0|                          38000.0|                          20239.0|                         13750.0|                           13770.0|                0.0|\n",
      "| 8.0|      100000|     2|        2|             2| 23|                           0|                       -1|                     -1|                      0|                     0|                      -1|                             11876.0|                            380.0|                          601.0|                          221.0|                        -159.0|                           567.0|                                 380.0|                              601.0|                              0.0|                            581.0|                          1687.0|                            1542.0|                0.0|\n",
      "| 9.0|      140000|     2|        3|             1| 28|                           0|                        0|                      2|                      0|                     0|                       0|                             11285.0|                          14096.0|                        12108.0|                        12211.0|                       11793.0|                          3719.0|                                3329.0|                                0.0|                            432.0|                           1000.0|                          1000.0|                            1000.0|                0.0|\n",
      "|10.0|       20000|     1|        3|             2| 35|                          -2|                       -2|                     -2|                     -2|                    -1|                      -1|                                 0.0|                              0.0|                            0.0|                            0.0|                       13007.0|                         13912.0|                                   0.0|                                0.0|                              0.0|                          13007.0|                          1122.0|                               0.0|                0.0|\n",
      "|11.0|      200000|     2|        3|             2| 34|                           0|                        0|                      2|                      0|                     0|                      -1|                             11073.0|                           9787.0|                         5535.0|                         2513.0|                        1828.0|                          3731.0|                                2306.0|                               12.0|                             50.0|                            300.0|                          3738.0|                              66.0|                0.0|\n",
      "|12.0|      260000|     2|        1|             2| 51|                          -1|                       -1|                     -1|                     -1|                    -1|                       2|                             12261.0|                          21670.0|                         9966.0|                         8517.0|                       22287.0|                         13668.0|                               21818.0|                             9966.0|                           8583.0|                          22301.0|                             0.0|                            3640.0|                0.0|\n",
      "|13.0|      630000|     2|        2|             2| 41|                          -1|                        0|                     -1|                     -1|                    -1|                      -1|                             12137.0|                           6500.0|                         6500.0|                         6500.0|                        6500.0|                          2870.0|                                1000.0|                             6500.0|                           6500.0|                           6500.0|                          2870.0|                               0.0|                0.0|\n",
      "|14.0|       70000|     1|        2|             2| 30|                           1|                        2|                      2|                      0|                     0|                       2|                             65802.0|                          67369.0|                        65701.0|                        66782.0|                       36137.0|                         36894.0|                                3200.0|                                0.0|                           3000.0|                           3000.0|                          1500.0|                               0.0|                1.0|\n",
      "|15.0|      250000|     1|        1|             2| 29|                           0|                        0|                      0|                      0|                     0|                       0|                             70887.0|                          67060.0|                        63561.0|                        59696.0|                       56875.0|                         55512.0|                                3000.0|                             3000.0|                           3000.0|                           3000.0|                          3000.0|                            3000.0|                0.0|\n",
      "|16.0|       50000|     2|        3|             3| 23|                           1|                        2|                      0|                      0|                     0|                       0|                             50614.0|                          29173.0|                        28116.0|                        28771.0|                       29531.0|                         30211.0|                                   0.0|                             1500.0|                           1100.0|                           1200.0|                          1300.0|                            1100.0|                0.0|\n",
      "|17.0|       20000|     1|        1|             2| 24|                           0|                        0|                      2|                      2|                     2|                       2|                             15376.0|                          18010.0|                        17428.0|                        18338.0|                       17905.0|                         19104.0|                                3200.0|                                0.0|                           1500.0|                              0.0|                          1650.0|                               0.0|                1.0|\n",
      "|18.0|      320000|     1|        1|             1| 49|                           0|                        0|                      0|                     -1|                    -1|                      -1|                            253286.0|                         246536.0|                       194663.0|                        70074.0|                        5856.0|                        195599.0|                               10358.0|                            10000.0|                          75940.0|                          20000.0|                        195599.0|                           50000.0|                0.0|\n",
      "|19.0|      360000|     2|        1|             1| 49|                           1|                       -2|                     -2|                     -2|                    -2|                      -2|                                 0.0|                              0.0|                            0.0|                            0.0|                           0.0|                             0.0|                                   0.0|                                0.0|                              0.0|                              0.0|                             0.0|                               0.0|                0.0|\n",
      "|20.0|      180000|     2|        1|             2| 29|                           1|                       -2|                     -2|                     -2|                    -2|                      -2|                                 0.0|                              0.0|                            0.0|                            0.0|                           0.0|                             0.0|                                   0.0|                                0.0|                              0.0|                              0.0|                             0.0|                               0.0|                0.0|\n",
      "+----+------------+------+---------+--------------+---+----------------------------+-------------------------+-----------------------+-----------------------+----------------------+------------------------+------------------------------------+---------------------------------+-------------------------------+-------------------------------+------------------------------+--------------------------------+--------------------------------------+-----------------------------------+---------------------------------+---------------------------------+--------------------------------+----------------------------------+-------------------+\n",
      "only showing top 20 rows\n",
      "\n"
     ]
    }
   ],
   "source": [
    "# Dropping null values\n",
    "data = data.na.drop(subset=data.columns)\n",
    "data.show()"
   ]
  },
  {
   "cell_type": "code",
   "execution_count": 6,
   "metadata": {},
   "outputs": [],
   "source": [
    "# Tranforming categorical variables using one hot encoding techniques and using a vector assembler to  transform data\n",
    "stages = []\n",
    "\n",
    "for categoricalCol in stringCols:\n",
    "    stringIndexer = StringIndexer(inputCol = categoricalCol, outputCol = categoricalCol + 'Index')\n",
    "    encoder = OneHotEncoderEstimator(inputCols=[stringIndexer.getOutputCol()], outputCols=[categoricalCol + \"classVec\"])\n",
    "    stages += [stringIndexer, encoder]\n",
    "label_stringIdx = StringIndexer(inputCol = 'Potential Defaulter', outputCol = 'label')\n",
    "stages += [label_stringIdx]\n",
    "\n",
    "assemblerInputs = [c + \"classVec\" for c in stringCols] + doubleCols\n",
    "assembler = VectorAssembler(inputCols=assemblerInputs, outputCol=\"features\")\n",
    "stages += [assembler]"
   ]
  },
  {
   "cell_type": "code",
   "execution_count": 7,
   "metadata": {
    "scrolled": true
   },
   "outputs": [
    {
     "name": "stdout",
     "output_type": "stream",
     "text": [
      "root\n",
      " |-- label: double (nullable = false)\n",
      " |-- features: vector (nullable = true)\n",
      " |-- Credit Limit: string (nullable = true)\n",
      " |-- Gender: string (nullable = true)\n",
      " |-- Education: string (nullable = true)\n",
      " |-- Marital status: string (nullable = true)\n",
      " |-- Age: string (nullable = true)\n",
      " |-- Repayment status - September: string (nullable = true)\n",
      " |-- Repayment status - August: string (nullable = true)\n",
      " |-- Repayment status - July: string (nullable = true)\n",
      " |-- Repayment status - June: string (nullable = true)\n",
      " |-- Repayment status - May: string (nullable = true)\n",
      " |-- Repayment status - April: string (nullable = true)\n",
      " |-- Amount of bill statement - September: double (nullable = true)\n",
      " |-- Amount of bill statement - August: double (nullable = true)\n",
      " |-- Amount of bill statement - July: double (nullable = true)\n",
      " |-- Amount of bill statement - June: double (nullable = true)\n",
      " |-- Amount of bill statement - May: double (nullable = true)\n",
      " |-- Amount of bill statement - April: double (nullable = true)\n",
      " |-- Amount of previous payment - September: double (nullable = true)\n",
      " |-- Amount of previous payment - August: double (nullable = true)\n",
      " |-- Amount of previous payment - July: double (nullable = true)\n",
      " |-- Amount of previous payment - June: double (nullable = true)\n",
      " |-- Amount of previous payment - May: double (nullable = true)\n",
      " |-- Amount of previous payment - April: double (nullable = true)\n",
      " |-- Potential Defaulter: double (nullable = true)\n",
      "\n"
     ]
    }
   ],
   "source": [
    "cols = data.columns\n",
    "pipeline = Pipeline(stages = stages)\n",
    "pipelineModel = pipeline.fit(data)\n",
    "cleanedData = pipelineModel.transform(data)\n",
    "selectedCols = ['label', 'features'] + cols\n",
    "cleanedData = cleanedData.select(selectedCols)\n",
    "cleanedData = cleanedData.drop('ID')\n",
    "cleanedData.printSchema()"
   ]
  },
  {
   "cell_type": "code",
   "execution_count": 8,
   "metadata": {},
   "outputs": [
    {
     "name": "stdout",
     "output_type": "stream",
     "text": [
      "Training Dataset Count: 20827\n",
      "Validation Dataset Count: 3034\n",
      "Test Dataset Count: 6139\n"
     ]
    }
   ],
   "source": [
    "# Splitting dataset into train, validation and test\n",
    "train, Val, test = cleanedData.randomSplit([0.7, 0.1, 0.2], seed=12345)\n",
    "print(\"Training Dataset Count: \" + str(train.count()))\n",
    "print(\"Validation Dataset Count: \" + str(Val.count()))\n",
    "print(\"Test Dataset Count: \" + str(test.count()))"
   ]
  },
  {
   "cell_type": "markdown",
   "metadata": {},
   "source": [
    "## Model Learning and Evaluation"
   ]
  },
  {
   "cell_type": "markdown",
   "metadata": {},
   "source": [
    "### LOGISTIC REGRESSION"
   ]
  },
  {
   "cell_type": "code",
   "execution_count": 9,
   "metadata": {},
   "outputs": [],
   "source": [
    "from pyspark.ml.classification import LogisticRegression\n",
    "lr = LogisticRegression(featuresCol = 'features', labelCol = 'label', maxIter=10)\n",
    "lrModel = lr.fit(train)"
   ]
  },
  {
   "cell_type": "code",
   "execution_count": 10,
   "metadata": {},
   "outputs": [
    {
     "name": "stdout",
     "output_type": "stream",
     "text": [
      "Logistic Regression Validation Accuracy 0.7525270025626745\n"
     ]
    }
   ],
   "source": [
    "predictions = lrModel.transform(Val)\n",
    "from pyspark.ml.evaluation import BinaryClassificationEvaluator\n",
    "evaluator = BinaryClassificationEvaluator()\n",
    "print('Logistic Regression Validation Accuracy', evaluator.evaluate(predictions))"
   ]
  },
  {
   "cell_type": "code",
   "execution_count": 11,
   "metadata": {},
   "outputs": [
    {
     "name": "stdout",
     "output_type": "stream",
     "text": [
      "Logistic Regression Test Accuracy 0.764108009525811\n"
     ]
    }
   ],
   "source": [
    "predictions = lrModel.transform(test)\n",
    "from pyspark.ml.evaluation import BinaryClassificationEvaluator\n",
    "evaluator = BinaryClassificationEvaluator()\n",
    "print('Logistic Regression Test Accuracy', evaluator.evaluate(predictions))"
   ]
  },
  {
   "cell_type": "markdown",
   "metadata": {},
   "source": [
    "### DECISION TREE CLASSIFIER"
   ]
  },
  {
   "cell_type": "code",
   "execution_count": 12,
   "metadata": {},
   "outputs": [
    {
     "name": "stdout",
     "output_type": "stream",
     "text": [
      "Decision Tree Classifier Validation Accuracy: 0.3462319326651485\n"
     ]
    }
   ],
   "source": [
    "from pyspark.ml.classification import DecisionTreeClassifier\n",
    "dt = DecisionTreeClassifier(featuresCol = 'features', labelCol = 'label', maxDepth = 3)\n",
    "dtModel = dt.fit(train)\n",
    "predictions = dtModel.transform(Val)\n",
    "evaluator = BinaryClassificationEvaluator()\n",
    "print(\"Decision Tree Classifier Validation Accuracy: \" + str(evaluator.evaluate(predictions, {evaluator.metricName: \"areaUnderROC\"})))"
   ]
  },
  {
   "cell_type": "code",
   "execution_count": 13,
   "metadata": {},
   "outputs": [
    {
     "name": "stdout",
     "output_type": "stream",
     "text": [
      "Decision Tree Classifier Test Accuracy: 0.3290220962831218\n"
     ]
    }
   ],
   "source": [
    "from pyspark.ml.classification import DecisionTreeClassifier\n",
    "dt = DecisionTreeClassifier(featuresCol = 'features', labelCol = 'label', maxDepth = 3)\n",
    "dtModel = dt.fit(train)\n",
    "predictions = dtModel.transform(test)\n",
    "evaluator = BinaryClassificationEvaluator()\n",
    "print(\"Decision Tree Classifier Test Accuracy: \" + str(evaluator.evaluate(predictions, {evaluator.metricName: \"areaUnderROC\"})))"
   ]
  },
  {
   "cell_type": "markdown",
   "metadata": {},
   "source": [
    "### RANDOM FOREST CLASSIFIER"
   ]
  },
  {
   "cell_type": "code",
   "execution_count": 14,
   "metadata": {},
   "outputs": [
    {
     "name": "stdout",
     "output_type": "stream",
     "text": [
      "Random Forest Classifier Validation Accuracy: 0.7414295005660864\n"
     ]
    }
   ],
   "source": [
    "from pyspark.ml.classification import RandomForestClassifier\n",
    "rf = RandomForestClassifier(featuresCol = 'features', labelCol = 'label')\n",
    "rfModel = rf.fit(train)\n",
    "predictions = rfModel.transform(Val)\n",
    "evaluator = BinaryClassificationEvaluator()\n",
    "print(\"Random Forest Classifier Validation Accuracy: \" + str(evaluator.evaluate(predictions, {evaluator.metricName: \"areaUnderROC\"})))"
   ]
  },
  {
   "cell_type": "code",
   "execution_count": 15,
   "metadata": {},
   "outputs": [
    {
     "name": "stdout",
     "output_type": "stream",
     "text": [
      "Random Forest Classifier Test Accuracy: 0.7566521719470646\n"
     ]
    }
   ],
   "source": [
    "from pyspark.ml.classification import RandomForestClassifier\n",
    "rf = RandomForestClassifier(featuresCol = 'features', labelCol = 'label')\n",
    "rfModel = rf.fit(train)\n",
    "predictions = rfModel.transform(test)\n",
    "evaluator = BinaryClassificationEvaluator()\n",
    "print(\"Random Forest Classifier Test Accuracy: \" + str(evaluator.evaluate(predictions, {evaluator.metricName: \"areaUnderROC\"})))"
   ]
  },
  {
   "cell_type": "markdown",
   "metadata": {},
   "source": [
    "### GRADIENT BOOSTING CLASSIFIER"
   ]
  },
  {
   "cell_type": "code",
   "execution_count": 16,
   "metadata": {},
   "outputs": [
    {
     "name": "stdout",
     "output_type": "stream",
     "text": [
      "Gradient Boosting Classifier Validation Accuracy: 0.7494655694549698\n"
     ]
    }
   ],
   "source": [
    "from pyspark.ml.classification import GBTClassifier\n",
    "gbt = GBTClassifier(maxIter=10)\n",
    "gbtModel = gbt.fit(train)\n",
    "predictions = gbtModel.transform(Val)\n",
    "evaluator = BinaryClassificationEvaluator()\n",
    "print(\"Gradient Boosting Classifier Validation Accuracy: \" + str(evaluator.evaluate(predictions, {evaluator.metricName: \"areaUnderROC\"})))"
   ]
  },
  {
   "cell_type": "code",
   "execution_count": 17,
   "metadata": {},
   "outputs": [
    {
     "name": "stdout",
     "output_type": "stream",
     "text": [
      "Gradient Boosting Classifier Test Accuracy: 0.7715802761281753\n"
     ]
    }
   ],
   "source": [
    "from pyspark.ml.classification import GBTClassifier\n",
    "gbt = GBTClassifier(maxIter=10)\n",
    "gbtModel = gbt.fit(train)\n",
    "predictions = gbtModel.transform(test)\n",
    "evaluator = BinaryClassificationEvaluator()\n",
    "print(\"Gradient Boosting Classifier Test Accuracy: \" + str(evaluator.evaluate(predictions, {evaluator.metricName: \"areaUnderROC\"})))"
   ]
  },
  {
   "cell_type": "markdown",
   "metadata": {},
   "source": [
    "## Out of the classifiers tried, Gradient Boosting Classifier gives the best accuracy of 77.2%"
   ]
  }
 ],
 "metadata": {
  "kernelspec": {
   "display_name": "Python 3",
   "language": "python",
   "name": "python3"
  },
  "language_info": {
   "codemirror_mode": {
    "name": "ipython",
    "version": 3
   },
   "file_extension": ".py",
   "mimetype": "text/x-python",
   "name": "python",
   "nbconvert_exporter": "python",
   "pygments_lexer": "ipython3",
   "version": "3.6.5"
  }
 },
 "nbformat": 4,
 "nbformat_minor": 2
}
